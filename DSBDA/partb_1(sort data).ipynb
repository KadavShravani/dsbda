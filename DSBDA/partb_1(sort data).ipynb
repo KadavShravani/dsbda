{
 "cells": [
  {
   "cell_type": "code",
   "execution_count": 1,
   "id": "426f11e8",
   "metadata": {},
   "outputs": [],
   "source": [
    "import pandas as pd\n"
   ]
  },
  {
   "cell_type": "code",
   "execution_count": 3,
   "id": "55d6a0c4",
   "metadata": {},
   "outputs": [],
   "source": [
    "csvData = pd.read_csv(\"C:/Users/aj538/Downloads/records.csv\")"
   ]
  },
  {
   "cell_type": "code",
   "execution_count": 13,
   "id": "957c66a0",
   "metadata": {},
   "outputs": [
    {
     "name": "stdout",
     "output_type": "stream",
     "text": [
      "\n",
      "Before sorting:\n",
      "   ID    Name    Role  Salary\n",
      "3   4     Ram  Author    4000\n",
      "4   5  Anupam  Author    5000\n",
      "2   3   David  Author    6000\n",
      "1   2    Lisa  Editor    8000\n",
      "0   1  Pankaj  Editor   10000\n"
     ]
    }
   ],
   "source": [
    "print(\"\\nBefore sorting:\")\n",
    "print(csvData)"
   ]
  },
  {
   "cell_type": "code",
   "execution_count": 6,
   "id": "5f89f2d6",
   "metadata": {},
   "outputs": [
    {
     "name": "stdout",
     "output_type": "stream",
     "text": [
      "   ID    Name    Role  Salary\n",
      "0   1  Pankaj  Editor   10000\n",
      "1   2    Lisa  Editor    8000\n",
      "2   3   David  Author    6000\n",
      "3   4     Ram  Author    4000\n",
      "4   5  Anupam  Author    5000\n"
     ]
    }
   ],
   "source": [
    "print(csvData)"
   ]
  },
  {
   "cell_type": "code",
   "execution_count": 8,
   "id": "b8fa2d53",
   "metadata": {},
   "outputs": [],
   "source": [
    "csvData.sort_values([\"Salary\"], axis=0, ascending=[False], inplace=True)\n"
   ]
  },
  {
   "cell_type": "code",
   "execution_count": 9,
   "id": "4a33c346",
   "metadata": {},
   "outputs": [],
   "source": [
    "csvData.sort_values([\"Salary\"],axis=0, ascending=[True], inplace=True)\n"
   ]
  },
  {
   "cell_type": "code",
   "execution_count": 12,
   "id": "04172938",
   "metadata": {},
   "outputs": [
    {
     "name": "stdout",
     "output_type": "stream",
     "text": [
      "\n",
      "After sorting:\n",
      "   ID    Name    Role  Salary\n",
      "3   4     Ram  Author    4000\n",
      "4   5  Anupam  Author    5000\n",
      "2   3   David  Author    6000\n",
      "1   2    Lisa  Editor    8000\n",
      "0   1  Pankaj  Editor   10000\n"
     ]
    }
   ],
   "source": [
    "print(\"\\nAfter sorting:\")\n",
    "print(csvData)"
   ]
  },
  {
   "cell_type": "code",
   "execution_count": null,
   "id": "4c14bca8",
   "metadata": {},
   "outputs": [],
   "source": [
    "\n",
    "#transporse"
   ]
  },
  {
   "cell_type": "code",
   "execution_count": 14,
   "id": "0e594846",
   "metadata": {},
   "outputs": [],
   "source": [
    "import pandas as pd"
   ]
  },
  {
   "cell_type": "code",
   "execution_count": 15,
   "id": "f362f070",
   "metadata": {},
   "outputs": [],
   "source": [
    "df = pd.read_csv('C:/Users/aj538/Downloads/records.csv')"
   ]
  },
  {
   "cell_type": "code",
   "execution_count": 16,
   "id": "a7c83388",
   "metadata": {},
   "outputs": [
    {
     "name": "stdout",
     "output_type": "stream",
     "text": [
      "   ID    Name    Role  Salary\n",
      "0   1  Pankaj  Editor   10000\n",
      "1   2    Lisa  Editor    8000\n",
      "2   3   David  Author    6000\n",
      "3   4     Ram  Author    4000\n",
      "4   5  Anupam  Author    5000\n"
     ]
    }
   ],
   "source": [
    "print(df)"
   ]
  },
  {
   "cell_type": "code",
   "execution_count": 17,
   "id": "34296f07",
   "metadata": {},
   "outputs": [
    {
     "name": "stdout",
     "output_type": "stream",
     "text": [
      "             0       1       2       3       4\n",
      "ID           1       2       3       4       5\n",
      "Name    Pankaj    Lisa   David     Ram  Anupam\n",
      "Role    Editor  Editor  Author  Author  Author\n",
      "Salary   10000    8000    6000    4000    5000\n"
     ]
    }
   ],
   "source": [
    "print(df.T)"
   ]
  },
  {
   "cell_type": "code",
   "execution_count": 18,
   "id": "156744ae",
   "metadata": {},
   "outputs": [
    {
     "name": "stdout",
     "output_type": "stream",
     "text": [
      "(5, 4)\n"
     ]
    }
   ],
   "source": [
    "print(df.shape)"
   ]
  },
  {
   "cell_type": "code",
   "execution_count": 19,
   "id": "f4490393",
   "metadata": {},
   "outputs": [
    {
     "name": "stdout",
     "output_type": "stream",
     "text": [
      "20\n"
     ]
    }
   ],
   "source": [
    "print(df.size)\n"
   ]
  },
  {
   "cell_type": "code",
   "execution_count": 20,
   "id": "68d97a12",
   "metadata": {},
   "outputs": [],
   "source": [
    "#shape"
   ]
  },
  {
   "cell_type": "code",
   "execution_count": 21,
   "id": "8a9d8301",
   "metadata": {},
   "outputs": [],
   "source": [
    "import pandas as pd"
   ]
  },
  {
   "cell_type": "code",
   "execution_count": 22,
   "id": "a1164b03",
   "metadata": {},
   "outputs": [],
   "source": [
    "df = pd.read_csv('C:/Users/aj538/Downloads/records.csv')"
   ]
  },
  {
   "cell_type": "code",
   "execution_count": 23,
   "id": "24557c07",
   "metadata": {},
   "outputs": [
    {
     "name": "stdout",
     "output_type": "stream",
     "text": [
      "   ID    Name    Role  Salary\n",
      "0   1  Pankaj  Editor   10000\n",
      "1   2    Lisa  Editor    8000\n",
      "2   3   David  Author    6000\n",
      "3   4     Ram  Author    4000\n",
      "4   5  Anupam  Author    5000\n"
     ]
    }
   ],
   "source": [
    "print(df)\n"
   ]
  },
  {
   "cell_type": "code",
   "execution_count": 24,
   "id": "f6a9565b",
   "metadata": {},
   "outputs": [
    {
     "name": "stdout",
     "output_type": "stream",
     "text": [
      "(5, 4)\n"
     ]
    }
   ],
   "source": [
    "print(df.shape)\n"
   ]
  },
  {
   "cell_type": "code",
   "execution_count": 25,
   "id": "8ac75343",
   "metadata": {},
   "outputs": [
    {
     "name": "stdout",
     "output_type": "stream",
     "text": [
      "20\n"
     ]
    }
   ],
   "source": [
    "print(df.size)"
   ]
  },
  {
   "cell_type": "code",
   "execution_count": null,
   "id": "d682b16c",
   "metadata": {},
   "outputs": [],
   "source": []
  }
 ],
 "metadata": {
  "kernelspec": {
   "display_name": "Python 3 (ipykernel)",
   "language": "python",
   "name": "python3"
  },
  "language_info": {
   "codemirror_mode": {
    "name": "ipython",
    "version": 3
   },
   "file_extension": ".py",
   "mimetype": "text/x-python",
   "name": "python",
   "nbconvert_exporter": "python",
   "pygments_lexer": "ipython3",
   "version": "3.11.4"
  }
 },
 "nbformat": 4,
 "nbformat_minor": 5
}
